{
 "cells": [
  {
   "cell_type": "code",
   "execution_count": 1,
   "metadata": {
    "collapsed": true
   },
   "outputs": [],
   "source": [
    "import pandas as pd\n",
    "import pandana as pdna\n",
    "from pandana.network import Network\n",
    "from urbansim.utils import misc\n",
    "from parcel_geo_alternatives import parcels_geo_new"
   ]
  },
  {
   "cell_type": "code",
   "execution_count": 2,
   "metadata": {
    "collapsed": true
   },
   "outputs": [],
   "source": [
    "alts = pd.read_csv('bart_alternatives.csv')"
   ]
  },
  {
   "cell_type": "code",
   "execution_count": 3,
   "metadata": {
    "collapsed": false
   },
   "outputs": [
    {
     "data": {
      "text/html": [
       "<div>\n",
       "<table border=\"1\" class=\"dataframe\">\n",
       "  <thead>\n",
       "    <tr style=\"text-align: right;\">\n",
       "      <th></th>\n",
       "      <th>alternative</th>\n",
       "      <th>station</th>\n",
       "      <th>x</th>\n",
       "      <th>y</th>\n",
       "    </tr>\n",
       "  </thead>\n",
       "  <tbody>\n",
       "    <tr>\n",
       "      <th>0</th>\n",
       "      <td>1</td>\n",
       "      <td>Fillmore</td>\n",
       "      <td>-122.433081</td>\n",
       "      <td>37.784604</td>\n",
       "    </tr>\n",
       "    <tr>\n",
       "      <th>1</th>\n",
       "      <td>1</td>\n",
       "      <td>Van Ness</td>\n",
       "      <td>-122.421647</td>\n",
       "      <td>37.785524</td>\n",
       "    </tr>\n",
       "    <tr>\n",
       "      <th>2</th>\n",
       "      <td>1</td>\n",
       "      <td>Union Square</td>\n",
       "      <td>-122.409734</td>\n",
       "      <td>37.787277</td>\n",
       "    </tr>\n",
       "    <tr>\n",
       "      <th>3</th>\n",
       "      <td>1</td>\n",
       "      <td>3rd St Mission</td>\n",
       "      <td>-122.400657</td>\n",
       "      <td>37.784987</td>\n",
       "    </tr>\n",
       "    <tr>\n",
       "      <th>4</th>\n",
       "      <td>1</td>\n",
       "      <td>Ballpark</td>\n",
       "      <td>-122.392733</td>\n",
       "      <td>37.779053</td>\n",
       "    </tr>\n",
       "  </tbody>\n",
       "</table>\n",
       "</div>"
      ],
      "text/plain": [
       "   alternative         station           x          y\n",
       "0            1        Fillmore -122.433081  37.784604\n",
       "1            1        Van Ness -122.421647  37.785524\n",
       "2            1    Union Square -122.409734  37.787277\n",
       "3            1  3rd St Mission -122.400657  37.784987\n",
       "4            1        Ballpark -122.392733  37.779053"
      ]
     },
     "execution_count": 3,
     "metadata": {},
     "output_type": "execute_result"
    }
   ],
   "source": [
    "alts.head()"
   ]
  },
  {
   "cell_type": "code",
   "execution_count": null,
   "metadata": {
    "collapsed": false
   },
   "outputs": [],
   "source": [
    "# ALTERNATIVE 1\n",
    "\n",
    "alt1 = alts[alts.alternative == 1]\n",
    "\n",
    "parcels_geo_new(poi_x=alt1.x,\n",
    "                poi_y=alt1.y,\n",
    "                tpp_id_value='bart1',\n",
    "                csv_name='parcels_geography_alt1.csv')"
   ]
  },
  {
   "cell_type": "code",
   "execution_count": null,
   "metadata": {
    "collapsed": false
   },
   "outputs": [],
   "source": [
    "# ALTERNATIVE 2\n",
    "\n",
    "alt2 = alts[alts.alternative == 2]\n",
    "\n",
    "parcels_geo_new(poi_x=alt2.x,\n",
    "                poi_y=alt2.y,\n",
    "                tpp_id_value='bart1',\n",
    "                csv_name='parcels_geography_alt2.csv')"
   ]
  },
  {
   "cell_type": "code",
   "execution_count": null,
   "metadata": {
    "collapsed": false
   },
   "outputs": [],
   "source": [
    "# ALTERNATIVE 3\n",
    "\n",
    "alt3 = alts[alts.alternative == 3]\n",
    "\n",
    "parcels_geo_new(poi_x=alt3.x,\n",
    "                poi_y=alt3.y,\n",
    "                tpp_id_value='bart1',\n",
    "                csv_name='parcels_geography_alt3.csv')"
   ]
  },
  {
   "cell_type": "code",
   "execution_count": 4,
   "metadata": {
    "collapsed": true
   },
   "outputs": [],
   "source": [
    "# ALTERNATIVE 4\n",
    "\n",
    "alt4 = alts[alts.alternative == 4]\n",
    "\n",
    "parcels_geo_new(poi_x=alt4.x,\n",
    "                poi_y=alt4.y,\n",
    "                tpp_id_value='bart1',\n",
    "                csv_name='parcels_geography_alt4.csv')"
   ]
  },
  {
   "cell_type": "code",
   "execution_count": 5,
   "metadata": {
    "collapsed": true
   },
   "outputs": [],
   "source": [
    "# check results\n",
    "pg1 = pd.read_csv('parcels_geography_alt1.csv')"
   ]
  },
  {
   "cell_type": "code",
   "execution_count": 10,
   "metadata": {
    "collapsed": false
   },
   "outputs": [
    {
     "name": "stdout",
     "output_type": "stream",
     "text": [
      "35506\n",
      "75213\n",
      "81829\n",
      "81064\n",
      "75978\n"
     ]
    }
   ],
   "source": [
    "pg_files = [\n",
    "    '02_01_2016_parcels_geography.csv',\n",
    "    'parcels_geography_alt1.csv',\n",
    "    'parcels_geography_alt2.csv',\n",
    "    'parcels_geography_alt3.csv',\n",
    "    'parcels_geography_alt4.csv'\n",
    "]\n",
    "\n",
    "for f in pg_files:\n",
    "    df = pd.read_csv(f)\n",
    "    length = len(df[df.tpp_id == 'bart1'])\n",
    "    print length"
   ]
  },
  {
   "cell_type": "code",
   "execution_count": 8,
   "metadata": {
    "collapsed": false
   },
   "outputs": [
    {
     "data": {
      "text/plain": [
       "75213"
      ]
     },
     "execution_count": 8,
     "metadata": {},
     "output_type": "execute_result"
    }
   ],
   "source": [
    "len(pg1[pg1.tpp_id == 'bart1'])"
   ]
  },
  {
   "cell_type": "code",
   "execution_count": null,
   "metadata": {
    "collapsed": true
   },
   "outputs": [],
   "source": []
  }
 ],
 "metadata": {
  "kernelspec": {
   "display_name": "Python 2",
   "language": "python",
   "name": "python2"
  },
  "language_info": {
   "codemirror_mode": {
    "name": "ipython",
    "version": 2
   },
   "file_extension": ".py",
   "mimetype": "text/x-python",
   "name": "python",
   "nbconvert_exporter": "python",
   "pygments_lexer": "ipython2",
   "version": "2.7.12"
  }
 },
 "nbformat": 4,
 "nbformat_minor": 0
}
