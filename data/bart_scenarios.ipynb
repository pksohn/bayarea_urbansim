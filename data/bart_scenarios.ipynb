{
 "cells": [
  {
   "cell_type": "code",
   "execution_count": 1,
   "metadata": {
    "collapsed": true
   },
   "outputs": [],
   "source": [
    "import pandas as pd\n",
    "import pandana as pdna\n",
    "from pandana.network import Network\n",
    "from urbansim.utils import misc\n",
    "from parcel_geo_alternatives import parcels_geo_new\n",
    "from parcel_geo_alternatives import parcels_geo_std\n",
    "from parcel_geo_alternatives import parcels_geo_combined"
   ]
  },
  {
   "cell_type": "code",
   "execution_count": 2,
   "metadata": {
    "collapsed": true
   },
   "outputs": [],
   "source": [
    "alts = pd.read_csv('bart_alternatives.csv')"
   ]
  },
  {
   "cell_type": "code",
   "execution_count": 3,
   "metadata": {
    "collapsed": false
   },
   "outputs": [
    {
     "data": {
      "text/html": [
       "<div>\n",
       "<table border=\"1\" class=\"dataframe\">\n",
       "  <thead>\n",
       "    <tr style=\"text-align: right;\">\n",
       "      <th></th>\n",
       "      <th>alternative</th>\n",
       "      <th>station</th>\n",
       "      <th>x</th>\n",
       "      <th>y</th>\n",
       "    </tr>\n",
       "  </thead>\n",
       "  <tbody>\n",
       "    <tr>\n",
       "      <th>0</th>\n",
       "      <td>1</td>\n",
       "      <td>Fillmore</td>\n",
       "      <td>-122.433081</td>\n",
       "      <td>37.784604</td>\n",
       "    </tr>\n",
       "    <tr>\n",
       "      <th>1</th>\n",
       "      <td>1</td>\n",
       "      <td>Van Ness</td>\n",
       "      <td>-122.421647</td>\n",
       "      <td>37.785524</td>\n",
       "    </tr>\n",
       "    <tr>\n",
       "      <th>2</th>\n",
       "      <td>1</td>\n",
       "      <td>Union Square</td>\n",
       "      <td>-122.409734</td>\n",
       "      <td>37.787277</td>\n",
       "    </tr>\n",
       "    <tr>\n",
       "      <th>3</th>\n",
       "      <td>1</td>\n",
       "      <td>3rd St Mission</td>\n",
       "      <td>-122.400657</td>\n",
       "      <td>37.784987</td>\n",
       "    </tr>\n",
       "    <tr>\n",
       "      <th>4</th>\n",
       "      <td>1</td>\n",
       "      <td>Ballpark</td>\n",
       "      <td>-122.392733</td>\n",
       "      <td>37.779053</td>\n",
       "    </tr>\n",
       "  </tbody>\n",
       "</table>\n",
       "</div>"
      ],
      "text/plain": [
       "   alternative         station           x          y\n",
       "0            1        Fillmore -122.433081  37.784604\n",
       "1            1        Van Ness -122.421647  37.785524\n",
       "2            1    Union Square -122.409734  37.787277\n",
       "3            1  3rd St Mission -122.400657  37.784987\n",
       "4            1        Ballpark -122.392733  37.779053"
      ]
     },
     "execution_count": 3,
     "metadata": {},
     "output_type": "execute_result"
    }
   ],
   "source": [
    "alts.head()"
   ]
  },
  {
   "cell_type": "code",
   "execution_count": 4,
   "metadata": {
    "collapsed": false
   },
   "outputs": [
    {
     "data": {
      "text/html": [
       "<div>\n",
       "<table border=\"1\" class=\"dataframe\">\n",
       "  <thead>\n",
       "    <tr style=\"text-align: right;\">\n",
       "      <th></th>\n",
       "      <th>alternative</th>\n",
       "      <th>station</th>\n",
       "      <th>x</th>\n",
       "      <th>y</th>\n",
       "    </tr>\n",
       "  </thead>\n",
       "  <tbody>\n",
       "    <tr>\n",
       "      <th>38</th>\n",
       "      <td>4</td>\n",
       "      <td>Jack London Square</td>\n",
       "      <td>-122.275174</td>\n",
       "      <td>37.795152</td>\n",
       "    </tr>\n",
       "    <tr>\n",
       "      <th>39</th>\n",
       "      <td>4</td>\n",
       "      <td>15th/Franklin</td>\n",
       "      <td>-122.269300</td>\n",
       "      <td>37.805077</td>\n",
       "    </tr>\n",
       "    <tr>\n",
       "      <th>40</th>\n",
       "      <td>5</td>\n",
       "      <td>Transbay Transit Center</td>\n",
       "      <td>-122.397182</td>\n",
       "      <td>37.789120</td>\n",
       "    </tr>\n",
       "    <tr>\n",
       "      <th>41</th>\n",
       "      <td>5</td>\n",
       "      <td>14th Street (Oakland)</td>\n",
       "      <td>-122.277416</td>\n",
       "      <td>37.806833</td>\n",
       "    </tr>\n",
       "    <tr>\n",
       "      <th>42</th>\n",
       "      <td>5</td>\n",
       "      <td>Existing Emeryville Station</td>\n",
       "      <td>-122.292075</td>\n",
       "      <td>37.840161</td>\n",
       "    </tr>\n",
       "  </tbody>\n",
       "</table>\n",
       "</div>"
      ],
      "text/plain": [
       "    alternative                      station           x          y\n",
       "38            4           Jack London Square -122.275174  37.795152\n",
       "39            4                15th/Franklin -122.269300  37.805077\n",
       "40            5      Transbay Transit Center -122.397182  37.789120\n",
       "41            5        14th Street (Oakland) -122.277416  37.806833\n",
       "42            5  Existing Emeryville Station -122.292075  37.840161"
      ]
     },
     "execution_count": 4,
     "metadata": {},
     "output_type": "execute_result"
    }
   ],
   "source": [
    "alts.tail()"
   ]
  },
  {
   "cell_type": "code",
   "execution_count": 17,
   "metadata": {
    "collapsed": false
   },
   "outputs": [
    {
     "name": "stderr",
     "output_type": "stream",
     "text": [
      "/home/paul/anaconda2/lib/python2.7/site-packages/ipykernel/__main__.py:4: SettingWithCopyWarning: \n",
      "A value is trying to be set on a copy of a slice from a DataFrame\n",
      "\n",
      "See the caveats in the documentation: http://pandas.pydata.org/pandas-docs/stable/indexing.html#indexing-view-versus-copy\n",
      "/home/paul/anaconda2/lib/python2.7/site-packages/ipykernel/__main__.py:5: FutureWarning: sort(columns=....) is deprecated, use sort_values(by=.....)\n"
     ]
    }
   ],
   "source": [
    "# ALTERNATIVE 1\n",
    "\n",
    "alt1 = alts[alts.alternative == 1]\n",
    "alt1.loc[len(alt1)] = [1,'placeholder',-122.0,37.0]\n",
    "alt1 = alt1.sort('y')\n",
    "\n",
    "parcels_geo_new(poi_x=alt1.x,\n",
    "                poi_y=alt1.y,\n",
    "                tpp_id_value='bart1',\n",
    "                csv_name='parcels_geography_alt1.csv',\n",
    "                dist=1000.0)"
   ]
  },
  {
   "cell_type": "code",
   "execution_count": 7,
   "metadata": {
    "collapsed": false
   },
   "outputs": [
    {
     "name": "stderr",
     "output_type": "stream",
     "text": [
      "/home/paul/anaconda2/lib/python2.7/site-packages/ipykernel/__main__.py:5: FutureWarning: sort(columns=....) is deprecated, use sort_values(by=.....)\n"
     ]
    }
   ],
   "source": [
    "# ALTERNATIVE 2\n",
    "\n",
    "alt2 = alts[alts.alternative == 2]\n",
    "alt2.loc[len(alt2)] = [1,'placeholder',-122.0,37.0]\n",
    "alt2 = alt2.sort('y')\n",
    "\n",
    "parcels_geo_new(poi_x=alt2.x,\n",
    "                poi_y=alt2.y,\n",
    "                tpp_id_value='bart1',\n",
    "                csv_name='parcels_geography_alt2.csv',\n",
    "                dist=1000.0)"
   ]
  },
  {
   "cell_type": "code",
   "execution_count": 4,
   "metadata": {
    "collapsed": false
   },
   "outputs": [
    {
     "name": "stderr",
     "output_type": "stream",
     "text": [
      "/home/paul/anaconda2/lib/python2.7/site-packages/ipykernel/__main__.py:4: SettingWithCopyWarning: \n",
      "A value is trying to be set on a copy of a slice from a DataFrame\n",
      "\n",
      "See the caveats in the documentation: http://pandas.pydata.org/pandas-docs/stable/indexing.html#indexing-view-versus-copy\n",
      "/home/paul/anaconda2/lib/python2.7/site-packages/ipykernel/__main__.py:5: FutureWarning: sort(columns=....) is deprecated, use sort_values(by=.....)\n"
     ]
    }
   ],
   "source": [
    "# ALTERNATIVE 3\n",
    "\n",
    "alt3 = alts[alts.alternative == 3]\n",
    "alt3.loc[len(alt3)] = [1,'placeholder',-122.0,37.0]\n",
    "alt3 = alt3.sort('y')\n",
    "\n",
    "parcels_geo_new(poi_x=alt3.x,\n",
    "                poi_y=alt3.y,\n",
    "                tpp_id_value='bart1',\n",
    "                csv_name='parcels_geography_alt3.csv',\n",
    "                dist=1000.0)"
   ]
  },
  {
   "cell_type": "code",
   "execution_count": 4,
   "metadata": {
    "collapsed": false
   },
   "outputs": [
    {
     "name": "stderr",
     "output_type": "stream",
     "text": [
      "/home/paul/anaconda2/lib/python2.7/site-packages/ipykernel/__main__.py:4: SettingWithCopyWarning: \n",
      "A value is trying to be set on a copy of a slice from a DataFrame\n",
      "\n",
      "See the caveats in the documentation: http://pandas.pydata.org/pandas-docs/stable/indexing.html#indexing-view-versus-copy\n",
      "/home/paul/anaconda2/lib/python2.7/site-packages/ipykernel/__main__.py:5: FutureWarning: sort(columns=....) is deprecated, use sort_values(by=.....)\n"
     ]
    }
   ],
   "source": [
    "# ALTERNATIVE 4\n",
    "\n",
    "alt4 = alts[alts.alternative == 4]\n",
    "alt4.loc[len(alt4)] = [1,'placeholder',-122.0,37.0]\n",
    "alt4 = alt4.sort('y')\n",
    "\n",
    "\n",
    "parcels_geo_new(poi_x=alt4.x,\n",
    "                poi_y=alt4.y,\n",
    "                tpp_id_value='bart1',\n",
    "                csv_name='parcels_geography_alt4.csv',\n",
    "                dist=1000.0)"
   ]
  },
  {
   "cell_type": "code",
   "execution_count": 7,
   "metadata": {
    "collapsed": false
   },
   "outputs": [
    {
     "name": "stderr",
     "output_type": "stream",
     "text": [
      "/home/paul/anaconda2/lib/python2.7/site-packages/ipykernel/__main__.py:4: SettingWithCopyWarning: \n",
      "A value is trying to be set on a copy of a slice from a DataFrame\n",
      "\n",
      "See the caveats in the documentation: http://pandas.pydata.org/pandas-docs/stable/indexing.html#indexing-view-versus-copy\n",
      "/home/paul/anaconda2/lib/python2.7/site-packages/ipykernel/__main__.py:5: FutureWarning: sort(columns=....) is deprecated, use sort_values(by=.....)\n"
     ]
    }
   ],
   "source": [
    "# ALTERNATIVE 5\n",
    "\n",
    "alt = alts[alts.alternative == 5]\n",
    "alt.loc[len(alt)] = [1,'placeholder',-122.0,37.0]\n",
    "alt = alt.sort('y')\n",
    "\n",
    "parcels_geo_std(poi_x=alt.x,\n",
    "                poi_y=alt.y,\n",
    "                tpp_id_value='std',\n",
    "                csv_name='parcels_geography_alt5.csv',\n",
    "                dist=1000.0)"
   ]
  },
  {
   "cell_type": "code",
   "execution_count": 7,
   "metadata": {
    "collapsed": false
   },
   "outputs": [
    {
     "name": "stderr",
     "output_type": "stream",
     "text": [
      "/home/paul/anaconda2/lib/python2.7/site-packages/ipykernel/__main__.py:5: FutureWarning: sort(columns=....) is deprecated, use sort_values(by=.....)\n",
      "/home/paul/anaconda2/lib/python2.7/site-packages/ipykernel/__main__.py:8: SettingWithCopyWarning: \n",
      "A value is trying to be set on a copy of a slice from a DataFrame\n",
      "\n",
      "See the caveats in the documentation: http://pandas.pydata.org/pandas-docs/stable/indexing.html#indexing-view-versus-copy\n",
      "/home/paul/anaconda2/lib/python2.7/site-packages/ipykernel/__main__.py:9: FutureWarning: sort(columns=....) is deprecated, use sort_values(by=.....)\n"
     ]
    }
   ],
   "source": [
    "# ALTERNATIVE 6\n",
    "\n",
    "bart = alts[alts.alternative == 2]\n",
    "bart.loc[len(bart)] = [1,'placeholder',-122.0,37.0]\n",
    "bart = bart.sort('y')\n",
    "\n",
    "std = alts[alts.alternative == 5]\n",
    "std.loc[len(std)] = [1,'placeholder',-122.0,37.0]\n",
    "std = std.sort('y')"
   ]
  },
  {
   "cell_type": "code",
   "execution_count": 8,
   "metadata": {
    "collapsed": false
   },
   "outputs": [
    {
     "name": "stdout",
     "output_type": "stream",
     "text": [
      "    alternative          station           x          y\n",
      "11            1      placeholder -122.000000  37.000000\n",
      "13            2      6th/Brannan -122.401849  37.774142\n",
      "12            2           Howard -122.411634  37.776255\n",
      "14            2      4th/Brannan -122.395365  37.779278\n",
      "15            2          Alameda -122.294181  37.780573\n",
      "9             2         Fillmore -122.433081  37.784604\n",
      "10            2         Van Ness -122.421647  37.785524\n",
      "18            2         Eastlake -122.255850  37.794423\n",
      "16            2  Howard Terminal -122.282372  37.797111\n",
      "17            2      11th Street -122.271412  37.801819\n",
      "19            2      14th Street -122.277152  37.806864     alternative                      station           x          y\n",
      "3             1                  placeholder -122.000000  37.000000\n",
      "40            5      Transbay Transit Center -122.397182  37.789120\n",
      "41            5        14th Street (Oakland) -122.277416  37.806833\n",
      "42            5  Existing Emeryville Station -122.292075  37.840161\n"
     ]
    }
   ],
   "source": [
    "print bart, std"
   ]
  },
  {
   "cell_type": "code",
   "execution_count": 5,
   "metadata": {
    "collapsed": false
   },
   "outputs": [
    {
     "name": "stderr",
     "output_type": "stream",
     "text": [
      "/home/paul/anaconda2/lib/python2.7/site-packages/pandas/core/indexing.py:465: SettingWithCopyWarning: \n",
      "A value is trying to be set on a copy of a slice from a DataFrame.\n",
      "Try using .loc[row_indexer,col_indexer] = value instead\n",
      "\n",
      "See the caveats in the documentation: http://pandas.pydata.org/pandas-docs/stable/indexing.html#indexing-view-versus-copy\n",
      "  self.obj[item] = s\n",
      "/home/paul/anaconda2/lib/python2.7/site-packages/ipykernel/__main__.py:5: FutureWarning: sort(columns=....) is deprecated, use sort_values(by=.....)\n",
      "/home/paul/anaconda2/lib/python2.7/site-packages/ipykernel/__main__.py:8: SettingWithCopyWarning: \n",
      "A value is trying to be set on a copy of a slice from a DataFrame\n",
      "\n",
      "See the caveats in the documentation: http://pandas.pydata.org/pandas-docs/stable/indexing.html#indexing-view-versus-copy\n",
      "/home/paul/anaconda2/lib/python2.7/site-packages/ipykernel/__main__.py:9: FutureWarning: sort(columns=....) is deprecated, use sort_values(by=.....)\n"
     ]
    }
   ],
   "source": [
    "parcels_geo_combined(poi_x_bart=bart.x,\n",
    "                     poi_y_bart=bart.y,\n",
    "                     poi_x_std=std.x,\n",
    "                     poi_y_std=std.y,\n",
    "                     tpp_id_value_bart='bart1',\n",
    "                     tpp_id_value_std='std',\n",
    "                     csv_name='parcels_geography_alt6.csv',\n",
    "                     dist=1000.0)"
   ]
  },
  {
   "cell_type": "code",
   "execution_count": 12,
   "metadata": {
    "collapsed": true
   },
   "outputs": [],
   "source": [
    "# check results\n",
    "pg6 = pd.read_csv('parcels_geography_alt6.csv')"
   ]
  },
  {
   "cell_type": "code",
   "execution_count": 6,
   "metadata": {
    "collapsed": false
   },
   "outputs": [
    {
     "name": "stdout",
     "output_type": "stream",
     "text": [
      "35506\n",
      "40190\n",
      "41759\n",
      "41691\n",
      "40300\n",
      "35506\n",
      "41759\n"
     ]
    }
   ],
   "source": [
    "pg_files = [\n",
    "    '02_01_2016_parcels_geography.csv',\n",
    "    'parcels_geography_alt1.csv',\n",
    "    'parcels_geography_alt2.csv',\n",
    "    'parcels_geography_alt3.csv',\n",
    "    'parcels_geography_alt4.csv',\n",
    "    'parcels_geography_alt5.csv',\n",
    "    'parcels_geography_alt6.csv'\n",
    "]\n",
    "\n",
    "for f in pg_files:\n",
    "    df = pd.read_csv(f)\n",
    "    length = len(df[df.tpp_id == 'bart1'])\n",
    "    print length"
   ]
  },
  {
   "cell_type": "code",
   "execution_count": 13,
   "metadata": {
    "collapsed": false
   },
   "outputs": [
    {
     "data": {
      "text/plain": [
       "683"
      ]
     },
     "execution_count": 13,
     "metadata": {},
     "output_type": "execute_result"
    }
   ],
   "source": [
    "len(pg6[pg6.tpp_id == 'std'])"
   ]
  },
  {
   "cell_type": "code",
   "execution_count": 14,
   "metadata": {
    "collapsed": true
   },
   "outputs": [],
   "source": [
    "# Visualize BART scenarios\n",
    "\n",
    "orig = pd.read_csv('./02_01_2016_parcels_geography.csv')\n",
    "\n",
    "with pd.HDFStore('./2015_09_01_bayarea_v3.h5') as store:\n",
    "    parcels = store.parcels"
   ]
  },
  {
   "cell_type": "code",
   "execution_count": 15,
   "metadata": {
    "collapsed": true
   },
   "outputs": [],
   "source": [
    "def parcels_to_csv(pg, num):\n",
    "    alt1 = pd.read_csv(pg)\n",
    "    compare = orig[['geom_id','tpp_id']].merge(alt1[['geom_id','tpp_id']], how='left', on='geom_id')\n",
    "    compare['diff'] = compare.tpp_id_x != compare.tpp_id_y\n",
    "    difference = compare[compare['diff'] == True].dropna()\n",
    "    diff_xy = difference.merge(parcels[['geom_id','x','y']], how='left', on='geom_id')\n",
    "    diff_xy.to_csv('parcels_changed_alt' + str(num) + '_1000.csv')"
   ]
  },
  {
   "cell_type": "code",
   "execution_count": 16,
   "metadata": {
    "collapsed": false
   },
   "outputs": [],
   "source": [
    "for i in enumerate(pg_files[1:]):\n",
    "    parcels_to_csv(i[1], i[0])"
   ]
  },
  {
   "cell_type": "code",
   "execution_count": null,
   "metadata": {
    "collapsed": true
   },
   "outputs": [],
   "source": []
  }
 ],
 "metadata": {
  "kernelspec": {
   "display_name": "Python 2",
   "language": "python",
   "name": "python2"
  },
  "language_info": {
   "codemirror_mode": {
    "name": "ipython",
    "version": 2
   },
   "file_extension": ".py",
   "mimetype": "text/x-python",
   "name": "python",
   "nbconvert_exporter": "python",
   "pygments_lexer": "ipython2",
   "version": "2.7.12"
  }
 },
 "nbformat": 4,
 "nbformat_minor": 0
}
