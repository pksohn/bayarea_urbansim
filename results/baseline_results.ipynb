{
 "cells": [
  {
   "cell_type": "code",
   "execution_count": 4,
   "metadata": {
    "collapsed": true
   },
   "outputs": [],
   "source": [
    "import pandas as pd\n",
    "import requests"
   ]
  },
  {
   "cell_type": "code",
   "execution_count": 5,
   "metadata": {
    "collapsed": true
   },
   "outputs": [],
   "source": [
    "with pd.HDFStore('./../data/bayarea_block_baseline.h5') as store:\n",
    "    hh = store.households\n",
    "    buildings = store.buildings\n",
    "    jobs = store.jobs"
   ]
  },
  {
   "cell_type": "code",
   "execution_count": 6,
   "metadata": {
    "collapsed": true
   },
   "outputs": [],
   "source": [
    "base_url = 'http://localhost:5000/model_data/base'\n",
    "geo = 'blockgroups'"
   ]
  },
  {
   "cell_type": "code",
   "execution_count": 7,
   "metadata": {
    "collapsed": false
   },
   "outputs": [],
   "source": [
    "data_dictionary = {}"
   ]
  },
  {
   "cell_type": "code",
   "execution_count": 8,
   "metadata": {
    "collapsed": false
   },
   "outputs": [
    {
     "data": {
      "text/html": [
       "<div>\n",
       "<table border=\"1\" class=\"dataframe\">\n",
       "  <thead>\n",
       "    <tr style=\"text-align: right;\">\n",
       "      <th></th>\n",
       "      <th>parcel_id</th>\n",
       "      <th>development_type_id</th>\n",
       "      <th>improvement_value</th>\n",
       "      <th>residential_units</th>\n",
       "      <th>residential_sqft</th>\n",
       "      <th>sqft_per_unit</th>\n",
       "      <th>non_residential_sqft</th>\n",
       "      <th>building_sqft</th>\n",
       "      <th>nonres_rent_per_sqft</th>\n",
       "      <th>res_price_per_sqft</th>\n",
       "      <th>stories</th>\n",
       "      <th>year_built</th>\n",
       "      <th>redfin_sale_price</th>\n",
       "      <th>redfin_sale_year</th>\n",
       "      <th>redfin_home_type</th>\n",
       "      <th>costar_property_type</th>\n",
       "      <th>costar_rent</th>\n",
       "      <th>building_type_id</th>\n",
       "      <th>block_id</th>\n",
       "    </tr>\n",
       "    <tr>\n",
       "      <th>building_id</th>\n",
       "      <th></th>\n",
       "      <th></th>\n",
       "      <th></th>\n",
       "      <th></th>\n",
       "      <th></th>\n",
       "      <th></th>\n",
       "      <th></th>\n",
       "      <th></th>\n",
       "      <th></th>\n",
       "      <th></th>\n",
       "      <th></th>\n",
       "      <th></th>\n",
       "      <th></th>\n",
       "      <th></th>\n",
       "      <th></th>\n",
       "      <th></th>\n",
       "      <th></th>\n",
       "      <th></th>\n",
       "      <th></th>\n",
       "    </tr>\n",
       "  </thead>\n",
       "  <tbody>\n",
       "    <tr>\n",
       "      <th>1</th>\n",
       "      <td>742974</td>\n",
       "      <td>1</td>\n",
       "      <td>0.00</td>\n",
       "      <td>1</td>\n",
       "      <td>2029</td>\n",
       "      <td>2029.42425</td>\n",
       "      <td>0</td>\n",
       "      <td>2029.42425</td>\n",
       "      <td>0.0</td>\n",
       "      <td>302.769751</td>\n",
       "      <td>1</td>\n",
       "      <td>1945</td>\n",
       "      <td>NaN</td>\n",
       "      <td>NaN</td>\n",
       "      <td></td>\n",
       "      <td></td>\n",
       "      <td></td>\n",
       "      <td>1</td>\n",
       "      <td>060411141003012</td>\n",
       "    </tr>\n",
       "    <tr>\n",
       "      <th>2</th>\n",
       "      <td>744961</td>\n",
       "      <td>1</td>\n",
       "      <td>0.00</td>\n",
       "      <td>1</td>\n",
       "      <td>2029</td>\n",
       "      <td>2029.42425</td>\n",
       "      <td>0</td>\n",
       "      <td>2029.42425</td>\n",
       "      <td>0.0</td>\n",
       "      <td>254.429279</td>\n",
       "      <td>1</td>\n",
       "      <td>1965</td>\n",
       "      <td>NaN</td>\n",
       "      <td>NaN</td>\n",
       "      <td></td>\n",
       "      <td></td>\n",
       "      <td></td>\n",
       "      <td>1</td>\n",
       "      <td>060411311003059</td>\n",
       "    </tr>\n",
       "    <tr>\n",
       "      <th>3</th>\n",
       "      <td>1442641</td>\n",
       "      <td>1</td>\n",
       "      <td>53262.87</td>\n",
       "      <td>1</td>\n",
       "      <td>1568</td>\n",
       "      <td>1568.00000</td>\n",
       "      <td>0</td>\n",
       "      <td>1568.00000</td>\n",
       "      <td>0.0</td>\n",
       "      <td>183.474166</td>\n",
       "      <td>1</td>\n",
       "      <td>1964</td>\n",
       "      <td>NaN</td>\n",
       "      <td>NaN</td>\n",
       "      <td></td>\n",
       "      <td></td>\n",
       "      <td></td>\n",
       "      <td>1</td>\n",
       "      <td>060855082023014</td>\n",
       "    </tr>\n",
       "    <tr>\n",
       "      <th>4</th>\n",
       "      <td>190969</td>\n",
       "      <td>2</td>\n",
       "      <td>245000.00</td>\n",
       "      <td>0</td>\n",
       "      <td>0</td>\n",
       "      <td>1266.00000</td>\n",
       "      <td>1595</td>\n",
       "      <td>1266.00000</td>\n",
       "      <td>0.0</td>\n",
       "      <td>0.000000</td>\n",
       "      <td>2</td>\n",
       "      <td>1992</td>\n",
       "      <td>340000.0</td>\n",
       "      <td>2003.0</td>\n",
       "      <td>Condo/Coop</td>\n",
       "      <td></td>\n",
       "      <td></td>\n",
       "      <td>3</td>\n",
       "      <td>060014308004003</td>\n",
       "    </tr>\n",
       "    <tr>\n",
       "      <th>5</th>\n",
       "      <td>308709</td>\n",
       "      <td>2</td>\n",
       "      <td>283500.00</td>\n",
       "      <td>0</td>\n",
       "      <td>0</td>\n",
       "      <td>1513.00000</td>\n",
       "      <td>1513</td>\n",
       "      <td>1513.00000</td>\n",
       "      <td>0.0</td>\n",
       "      <td>0.000000</td>\n",
       "      <td>1</td>\n",
       "      <td>1978</td>\n",
       "      <td>442000.0</td>\n",
       "      <td>2004.0</td>\n",
       "      <td>Condo/Coop</td>\n",
       "      <td></td>\n",
       "      <td></td>\n",
       "      <td>3</td>\n",
       "      <td>060014418002005</td>\n",
       "    </tr>\n",
       "  </tbody>\n",
       "</table>\n",
       "</div>"
      ],
      "text/plain": [
       "             parcel_id  development_type_id  improvement_value  \\\n",
       "building_id                                                      \n",
       "1               742974                    1               0.00   \n",
       "2               744961                    1               0.00   \n",
       "3              1442641                    1           53262.87   \n",
       "4               190969                    2          245000.00   \n",
       "5               308709                    2          283500.00   \n",
       "\n",
       "             residential_units  residential_sqft  sqft_per_unit  \\\n",
       "building_id                                                       \n",
       "1                            1              2029     2029.42425   \n",
       "2                            1              2029     2029.42425   \n",
       "3                            1              1568     1568.00000   \n",
       "4                            0                 0     1266.00000   \n",
       "5                            0                 0     1513.00000   \n",
       "\n",
       "             non_residential_sqft  building_sqft  nonres_rent_per_sqft  \\\n",
       "building_id                                                              \n",
       "1                               0     2029.42425                   0.0   \n",
       "2                               0     2029.42425                   0.0   \n",
       "3                               0     1568.00000                   0.0   \n",
       "4                            1595     1266.00000                   0.0   \n",
       "5                            1513     1513.00000                   0.0   \n",
       "\n",
       "             res_price_per_sqft  stories  year_built  redfin_sale_price  \\\n",
       "building_id                                                               \n",
       "1                    302.769751        1        1945                NaN   \n",
       "2                    254.429279        1        1965                NaN   \n",
       "3                    183.474166        1        1964                NaN   \n",
       "4                      0.000000        2        1992           340000.0   \n",
       "5                      0.000000        1        1978           442000.0   \n",
       "\n",
       "             redfin_sale_year redfin_home_type costar_property_type  \\\n",
       "building_id                                                           \n",
       "1                         NaN                                         \n",
       "2                         NaN                                         \n",
       "3                         NaN                                         \n",
       "4                      2003.0       Condo/Coop                        \n",
       "5                      2004.0       Condo/Coop                        \n",
       "\n",
       "            costar_rent  building_type_id         block_id  \n",
       "building_id                                                 \n",
       "1                                       1  060411141003012  \n",
       "2                                       1  060411311003059  \n",
       "3                                       1  060855082023014  \n",
       "4                                       3  060014308004003  \n",
       "5                                       3  060014418002005  "
      ]
     },
     "execution_count": 8,
     "metadata": {},
     "output_type": "execute_result"
    }
   ],
   "source": [
    "buildings.head()"
   ]
  },
  {
   "cell_type": "code",
   "execution_count": 9,
   "metadata": {
    "collapsed": false
   },
   "outputs": [
    {
     "data": {
      "text/plain": [
       "count    2.608019e+06\n",
       "mean     8.138398e+04\n",
       "std      8.149481e+04\n",
       "min     -2.000000e+04\n",
       "25%      3.020000e+04\n",
       "50%      6.090000e+04\n",
       "75%      1.020000e+05\n",
       "max      1.968504e+06\n",
       "Name: income, dtype: float64"
      ]
     },
     "execution_count": 9,
     "metadata": {},
     "output_type": "execute_result"
    }
   ],
   "source": [
    "hh.income.describe()"
   ]
  },
  {
   "cell_type": "code",
   "execution_count": 10,
   "metadata": {
    "collapsed": false
   },
   "outputs": [],
   "source": [
    "# Job Density\n",
    "\n",
    "options = {'area_unit':'miles'}\n",
    "\n",
    "data = pd.Series(requests.post(base_url + '/density/jobs/' + geo, options).json())\n",
    "df = pd.DataFrame(data, columns=['job_density'])\n",
    "\n",
    "data_dictionary['job_density'] = 'Job Density in Jobs per Square Mile'"
   ]
  },
  {
   "cell_type": "code",
   "execution_count": 11,
   "metadata": {
    "collapsed": false
   },
   "outputs": [],
   "source": [
    "# Population Density\n",
    "\n",
    "options = {'area_unit':'miles'}\n",
    "\n",
    "data = pd.Series(requests.post(base_url + '/density/population/' + geo, options).json())\n",
    "df['pop_density'] = data\n",
    "\n",
    "data_dictionary['pop_density'] = 'Population Density in Persons per Square Mile'"
   ]
  },
  {
   "cell_type": "code",
   "execution_count": 12,
   "metadata": {
    "collapsed": false
   },
   "outputs": [],
   "source": [
    "# Median Income\n",
    "\n",
    "options = {'target_var':'income',\n",
    "          'spatial_agg':'median'}\n",
    "\n",
    "data = pd.Series(requests.post(base_url + '/descriptive/households/' + geo, options).json())\n",
    "df['income_median'] = data\n",
    "\n",
    "data_dictionary['income_median'] = 'Median Income'"
   ]
  },
  {
   "cell_type": "code",
   "execution_count": 13,
   "metadata": {
    "collapsed": false
   },
   "outputs": [],
   "source": [
    "# Mean Income\n",
    "\n",
    "options = {'target_var':'income',\n",
    "          'spatial_agg':'mean'}\n",
    "\n",
    "data = pd.Series(requests.post(base_url + '/descriptive/households/' + geo, options).json())\n",
    "df['income_mean'] = data\n",
    "\n",
    "data_dictionary['income_mean'] = 'Mean Income'"
   ]
  },
  {
   "cell_type": "code",
   "execution_count": 14,
   "metadata": {
    "collapsed": true
   },
   "outputs": [],
   "source": [
    "# Number of Households\n",
    "\n",
    "data = pd.Series(requests.get(base_url + '/descriptive/households/' + geo).json())\n",
    "df['households'] = data\n",
    "\n",
    "data_dictionary['households'] = 'Number of Households'"
   ]
  },
  {
   "cell_type": "code",
   "execution_count": 15,
   "metadata": {
    "collapsed": false
   },
   "outputs": [],
   "source": [
    "# Number of Persons\n",
    "\n",
    "options = {'target_var':'persons',\n",
    "          'spatial_agg':'sum'}\n",
    "\n",
    "data = pd.Series(requests.post(base_url + '/descriptive/households/' + geo, options).json())\n",
    "df['persons'] = data\n",
    "\n",
    "data_dictionary['persons'] = 'Total Population'"
   ]
  },
  {
   "cell_type": "code",
   "execution_count": 16,
   "metadata": {
    "collapsed": false
   },
   "outputs": [],
   "source": [
    "# Number of Jobs\n",
    "\n",
    "data = pd.Series(requests.post(base_url + '/descriptive/jobs/' + geo).json())\n",
    "df['jobs'] = data\n",
    "\n",
    "data_dictionary['Jobs'] = 'Number of Jobs'"
   ]
  },
  {
   "cell_type": "code",
   "execution_count": 17,
   "metadata": {
    "collapsed": false
   },
   "outputs": [],
   "source": [
    "# Households Renting\n",
    "options = {'hownrent':'2'}\n",
    "data = pd.Series(requests.post(base_url + '/descriptive/households/' + geo, options).json())\n",
    "df['hh_rent'] = data\n",
    "\n",
    "data_dictionary['hh_rent'] = 'Number of Households Renting their Homes'"
   ]
  },
  {
   "cell_type": "code",
   "execution_count": 18,
   "metadata": {
    "collapsed": true
   },
   "outputs": [],
   "source": [
    "# Households Own\n",
    "options = {'hownrent':'1'}\n",
    "data = pd.Series(requests.post(base_url + '/descriptive/households/' + geo, options).json())\n",
    "df['hh_own'] = data\n",
    "\n",
    "data_dictionary['hh_rent'] = 'Number of Households that Own their Homes'"
   ]
  },
  {
   "cell_type": "code",
   "execution_count": 19,
   "metadata": {
    "collapsed": false
   },
   "outputs": [],
   "source": [
    "# Number of Buildings\n",
    "data = pd.Series(requests.get(base_url + '/descriptive/buildings/' + geo).json())\n",
    "df['buildings'] = data\n",
    "\n",
    "data_dictionary['buildings'] = 'Number of Buildings'"
   ]
  },
  {
   "cell_type": "code",
   "execution_count": 20,
   "metadata": {
    "collapsed": false
   },
   "outputs": [],
   "source": [
    "# Number of Residential Units\n",
    "\n",
    "options = {'target_var':'residential_units',\n",
    "          'spatial_agg':'sum'}\n",
    "\n",
    "data = pd.Series(requests.post(base_url + '/descriptive/buildings/' + geo, options).json())\n",
    "df['res_units'] = data\n",
    "\n",
    "data_dictionary['res_units'] = 'Number of Residential Units'"
   ]
  },
  {
   "cell_type": "code",
   "execution_count": 21,
   "metadata": {
    "collapsed": true
   },
   "outputs": [],
   "source": [
    "# Residential Square Feet\n",
    "\n",
    "options = {'target_var':'residential_sqft',\n",
    "          'spatial_agg':'sum'}\n",
    "\n",
    "data = pd.Series(requests.post(base_url + '/descriptive/buildings/' + geo, options).json())\n",
    "df['res_sqft'] = data\n",
    "\n",
    "data_dictionary['res_sqft'] = 'Total Residential Square Feet'"
   ]
  },
  {
   "cell_type": "code",
   "execution_count": 22,
   "metadata": {
    "collapsed": true
   },
   "outputs": [],
   "source": [
    "# Non-Residential Square Feet\n",
    "\n",
    "options = {'target_var':'non_residential_sqft',\n",
    "          'spatial_agg':'sum'}\n",
    "\n",
    "data = pd.Series(requests.post(base_url + '/descriptive/buildings/' + geo, options).json())\n",
    "df['non_res_sqft'] = data\n",
    "\n",
    "data_dictionary['non_res_sqft'] = 'Total Non-Residential Square Feet'"
   ]
  },
  {
   "cell_type": "code",
   "execution_count": 23,
   "metadata": {
    "collapsed": false
   },
   "outputs": [
    {
     "data": {
      "text/html": [
       "<div>\n",
       "<table border=\"1\" class=\"dataframe\">\n",
       "  <thead>\n",
       "    <tr style=\"text-align: right;\">\n",
       "      <th></th>\n",
       "      <th>job_density</th>\n",
       "      <th>pop_density</th>\n",
       "      <th>income_median</th>\n",
       "      <th>income_mean</th>\n",
       "      <th>households</th>\n",
       "      <th>persons</th>\n",
       "      <th>jobs</th>\n",
       "      <th>hh_rent</th>\n",
       "      <th>hh_own</th>\n",
       "      <th>buildings</th>\n",
       "      <th>res_units</th>\n",
       "      <th>res_sqft</th>\n",
       "      <th>non_res_sqft</th>\n",
       "    </tr>\n",
       "  </thead>\n",
       "  <tbody>\n",
       "    <tr>\n",
       "      <th>06001400100</th>\n",
       "      <td>689.058298</td>\n",
       "      <td>1108.665072</td>\n",
       "      <td>114025.0</td>\n",
       "      <td>137803.985141</td>\n",
       "      <td>1346.0</td>\n",
       "      <td>2946.0</td>\n",
       "      <td>1831.0</td>\n",
       "      <td>212.0</td>\n",
       "      <td>1134.0</td>\n",
       "      <td>1497.0</td>\n",
       "      <td>1433.0</td>\n",
       "      <td>3756954.0</td>\n",
       "      <td>1533732.0</td>\n",
       "    </tr>\n",
       "    <tr>\n",
       "      <th>06001400200</th>\n",
       "      <td>22809.595446</td>\n",
       "      <td>8168.977419</td>\n",
       "      <td>74100.0</td>\n",
       "      <td>96481.841981</td>\n",
       "      <td>848.0</td>\n",
       "      <td>1877.0</td>\n",
       "      <td>5241.0</td>\n",
       "      <td>334.0</td>\n",
       "      <td>514.0</td>\n",
       "      <td>664.0</td>\n",
       "      <td>900.0</td>\n",
       "      <td>1446837.0</td>\n",
       "      <td>2683733.0</td>\n",
       "    </tr>\n",
       "    <tr>\n",
       "      <th>06001400300</th>\n",
       "      <td>3854.539340</td>\n",
       "      <td>11343.358630</td>\n",
       "      <td>54000.0</td>\n",
       "      <td>78521.399752</td>\n",
       "      <td>2419.0</td>\n",
       "      <td>4841.0</td>\n",
       "      <td>1645.0</td>\n",
       "      <td>1197.0</td>\n",
       "      <td>1222.0</td>\n",
       "      <td>1529.0</td>\n",
       "      <td>2595.0</td>\n",
       "      <td>2941465.0</td>\n",
       "      <td>779046.0</td>\n",
       "    </tr>\n",
       "    <tr>\n",
       "      <th>06001400400</th>\n",
       "      <td>4228.999517</td>\n",
       "      <td>14851.186292</td>\n",
       "      <td>54210.0</td>\n",
       "      <td>68762.547696</td>\n",
       "      <td>1866.0</td>\n",
       "      <td>4035.0</td>\n",
       "      <td>1149.0</td>\n",
       "      <td>1068.0</td>\n",
       "      <td>798.0</td>\n",
       "      <td>1094.0</td>\n",
       "      <td>1955.0</td>\n",
       "      <td>2323575.0</td>\n",
       "      <td>543824.0</td>\n",
       "    </tr>\n",
       "    <tr>\n",
       "      <th>06001400500</th>\n",
       "      <td>2946.215888</td>\n",
       "      <td>15757.190503</td>\n",
       "      <td>37730.0</td>\n",
       "      <td>56054.495226</td>\n",
       "      <td>1571.0</td>\n",
       "      <td>3578.0</td>\n",
       "      <td>669.0</td>\n",
       "      <td>976.0</td>\n",
       "      <td>595.0</td>\n",
       "      <td>924.0</td>\n",
       "      <td>1655.0</td>\n",
       "      <td>1769479.0</td>\n",
       "      <td>360549.0</td>\n",
       "    </tr>\n",
       "  </tbody>\n",
       "</table>\n",
       "</div>"
      ],
      "text/plain": [
       "              job_density   pop_density  income_median    income_mean  \\\n",
       "06001400100    689.058298   1108.665072       114025.0  137803.985141   \n",
       "06001400200  22809.595446   8168.977419        74100.0   96481.841981   \n",
       "06001400300   3854.539340  11343.358630        54000.0   78521.399752   \n",
       "06001400400   4228.999517  14851.186292        54210.0   68762.547696   \n",
       "06001400500   2946.215888  15757.190503        37730.0   56054.495226   \n",
       "\n",
       "             households  persons    jobs  hh_rent  hh_own  buildings  \\\n",
       "06001400100      1346.0   2946.0  1831.0    212.0  1134.0     1497.0   \n",
       "06001400200       848.0   1877.0  5241.0    334.0   514.0      664.0   \n",
       "06001400300      2419.0   4841.0  1645.0   1197.0  1222.0     1529.0   \n",
       "06001400400      1866.0   4035.0  1149.0   1068.0   798.0     1094.0   \n",
       "06001400500      1571.0   3578.0   669.0    976.0   595.0      924.0   \n",
       "\n",
       "             res_units   res_sqft  non_res_sqft  \n",
       "06001400100     1433.0  3756954.0     1533732.0  \n",
       "06001400200      900.0  1446837.0     2683733.0  \n",
       "06001400300     2595.0  2941465.0      779046.0  \n",
       "06001400400     1955.0  2323575.0      543824.0  \n",
       "06001400500     1655.0  1769479.0      360549.0  "
      ]
     },
     "execution_count": 23,
     "metadata": {},
     "output_type": "execute_result"
    }
   ],
   "source": [
    "df.head()"
   ]
  },
  {
   "cell_type": "code",
   "execution_count": 24,
   "metadata": {
    "collapsed": false
   },
   "outputs": [],
   "source": [
    "naics = {11: 'Agriculture, Forestry, Fishing and Hunting',\n",
    "         21: 'Mining, Quarrying, and Oil and Gas Extraction',\n",
    "         22: 'Utilities',\n",
    "         23: 'Construction',\n",
    "         3133: 'Manufacturing',\n",
    "         42: 'Wholesale Trade',\n",
    "         4445: 'Retail Trade',\n",
    "         4849: 'Transportation and Warehousing',\n",
    "         51: 'Information',\n",
    "         52: 'Finance and Insurance',\n",
    "         53: 'Real Estate and Rental and Leasing',\n",
    "         54: 'Professional, Scientific, and Technical Services',\n",
    "         55: 'Management of Companies and Enterprises',\n",
    "         56: 'Administrative and Support and Waste Management and Remediation Services',\n",
    "         61: 'Educational Services',\n",
    "         62: 'Health Care and Social Assistance',\n",
    "         71: 'Arts, Entertainment, and Recreation',\n",
    "         72: 'Accommodation and Food Services',\n",
    "         81: 'Other Services (except Public Administration)',\n",
    "         92: 'Public Administration'}"
   ]
  },
  {
   "cell_type": "code",
   "execution_count": 25,
   "metadata": {
    "collapsed": false
   },
   "outputs": [],
   "source": [
    "# Jobs by Sector\n",
    "\n",
    "for key, value in naics.items():\n",
    "    options = {'sector_id':str(key)}\n",
    "\n",
    "    data = pd.Series(requests.post(base_url + '/descriptive/jobs/' + geo, options).json())\n",
    "    df['jobs_' + str(key)] = data\n",
    "    \n",
    "    data_dictionary['jobs_' + str(key)] = 'Number of Jobs in ' + value"
   ]
  },
  {
   "cell_type": "code",
   "execution_count": 26,
   "metadata": {
    "collapsed": true
   },
   "outputs": [],
   "source": [
    "dd = pd.DataFrame(pd.Series(data_dictionary), columns=['Variable Definition'])\n",
    "dd.index.name = 'Variable'"
   ]
  },
  {
   "cell_type": "code",
   "execution_count": 27,
   "metadata": {
    "collapsed": false
   },
   "outputs": [],
   "source": [
    "dd.to_csv('baseline_dictionary.csv')"
   ]
  },
  {
   "cell_type": "code",
   "execution_count": 28,
   "metadata": {
    "collapsed": true
   },
   "outputs": [],
   "source": [
    "df.to_csv('baseline_results_v2.csv')"
   ]
  },
  {
   "cell_type": "code",
   "execution_count": null,
   "metadata": {
    "collapsed": true
   },
   "outputs": [],
   "source": []
  }
 ],
 "metadata": {
  "kernelspec": {
   "display_name": "Python 2",
   "language": "python",
   "name": "python2"
  },
  "language_info": {
   "codemirror_mode": {
    "name": "ipython",
    "version": 2
   },
   "file_extension": ".py",
   "mimetype": "text/x-python",
   "name": "python",
   "nbconvert_exporter": "python",
   "pygments_lexer": "ipython2",
   "version": "2.7.12"
  }
 },
 "nbformat": 4,
 "nbformat_minor": 0
}
