{
 "cells": [
  {
   "cell_type": "code",
   "execution_count": 1,
   "metadata": {
    "collapsed": true
   },
   "outputs": [],
   "source": [
    "import pandas as pd\n",
    "import requests"
   ]
  },
  {
   "cell_type": "code",
   "execution_count": 2,
   "metadata": {
    "collapsed": true
   },
   "outputs": [],
   "source": [
    "# with pd.HDFStore('./../data/bayarea_block_baseline.h5') as store:\n",
    "#     hh = store.households\n",
    "#     buildings = store.buildings\n",
    "#     jobs = store.jobs"
   ]
  },
  {
   "cell_type": "code",
   "execution_count": 3,
   "metadata": {
    "collapsed": true
   },
   "outputs": [],
   "source": [
    "base_url = 'http://localhost:5000/run20/base'\n",
    "geo = 'blockgroups'"
   ]
  },
  {
   "cell_type": "code",
   "execution_count": 4,
   "metadata": {
    "collapsed": false
   },
   "outputs": [],
   "source": [
    "data_dictionary = {}"
   ]
  },
  {
   "cell_type": "code",
   "execution_count": 6,
   "metadata": {
    "collapsed": false
   },
   "outputs": [],
   "source": [
    "# buildings.head()"
   ]
  },
  {
   "cell_type": "code",
   "execution_count": 7,
   "metadata": {
    "collapsed": false
   },
   "outputs": [],
   "source": [
    "# hh.income.describe()"
   ]
  },
  {
   "cell_type": "code",
   "execution_count": 8,
   "metadata": {
    "collapsed": false
   },
   "outputs": [],
   "source": [
    "# Job Density\n",
    "\n",
    "options = {'area_unit':'miles'}\n",
    "\n",
    "data = pd.Series(requests.post(base_url + '/density/jobs/' + geo, options).json())\n",
    "df = pd.DataFrame(data, columns=['job_density'])\n",
    "\n",
    "data_dictionary['job_density'] = 'Job Density in Jobs per Square Mile'"
   ]
  },
  {
   "cell_type": "code",
   "execution_count": 9,
   "metadata": {
    "collapsed": false
   },
   "outputs": [],
   "source": [
    "# Population Density\n",
    "\n",
    "options = {'area_unit':'miles'}\n",
    "\n",
    "data = pd.Series(requests.post(base_url + '/density/population/' + geo, options).json())\n",
    "df['pop_density'] = data\n",
    "\n",
    "data_dictionary['pop_density'] = 'Population Density in Persons per Square Mile'"
   ]
  },
  {
   "cell_type": "code",
   "execution_count": 10,
   "metadata": {
    "collapsed": false
   },
   "outputs": [],
   "source": [
    "# Median Income\n",
    "\n",
    "options = {'target_var':'income',\n",
    "          'spatial_agg':'median'}\n",
    "\n",
    "data = pd.Series(requests.post(base_url + '/descriptive/households/' + geo, options).json())\n",
    "df['income_median'] = data\n",
    "\n",
    "data_dictionary['income_median'] = 'Median Income'"
   ]
  },
  {
   "cell_type": "code",
   "execution_count": 11,
   "metadata": {
    "collapsed": false
   },
   "outputs": [],
   "source": [
    "# Mean Income\n",
    "\n",
    "options = {'target_var':'income',\n",
    "          'spatial_agg':'mean'}\n",
    "\n",
    "data = pd.Series(requests.post(base_url + '/descriptive/households/' + geo, options).json())\n",
    "df['income_mean'] = data\n",
    "\n",
    "data_dictionary['income_mean'] = 'Mean Income'"
   ]
  },
  {
   "cell_type": "code",
   "execution_count": 12,
   "metadata": {
    "collapsed": true
   },
   "outputs": [],
   "source": [
    "# Number of Households\n",
    "\n",
    "data = pd.Series(requests.get(base_url + '/descriptive/households/' + geo).json())\n",
    "df['households'] = data\n",
    "\n",
    "data_dictionary['households'] = 'Number of Households'"
   ]
  },
  {
   "cell_type": "code",
   "execution_count": 13,
   "metadata": {
    "collapsed": false
   },
   "outputs": [],
   "source": [
    "# Number of Persons\n",
    "\n",
    "options = {'target_var':'persons',\n",
    "          'spatial_agg':'sum'}\n",
    "\n",
    "data = pd.Series(requests.post(base_url + '/descriptive/households/' + geo, options).json())\n",
    "df['persons'] = data\n",
    "\n",
    "data_dictionary['persons'] = 'Total Population'"
   ]
  },
  {
   "cell_type": "code",
   "execution_count": 14,
   "metadata": {
    "collapsed": false
   },
   "outputs": [],
   "source": [
    "# Number of Jobs\n",
    "\n",
    "data = pd.Series(requests.post(base_url + '/descriptive/jobs/' + geo).json())\n",
    "df['jobs'] = data\n",
    "\n",
    "data_dictionary['Jobs'] = 'Number of Jobs'"
   ]
  },
  {
   "cell_type": "code",
   "execution_count": 15,
   "metadata": {
    "collapsed": false
   },
   "outputs": [],
   "source": [
    "# Households Renting\n",
    "options = {'hownrent':'2'}\n",
    "data = pd.Series(requests.post(base_url + '/descriptive/households/' + geo, options).json())\n",
    "df['hh_rent'] = data\n",
    "\n",
    "data_dictionary['hh_rent'] = 'Number of Households Renting their Homes'"
   ]
  },
  {
   "cell_type": "code",
   "execution_count": 16,
   "metadata": {
    "collapsed": true
   },
   "outputs": [],
   "source": [
    "# Households Own\n",
    "options = {'hownrent':'1'}\n",
    "data = pd.Series(requests.post(base_url + '/descriptive/households/' + geo, options).json())\n",
    "df['hh_own'] = data\n",
    "\n",
    "data_dictionary['hh_rent'] = 'Number of Households that Own their Homes'"
   ]
  },
  {
   "cell_type": "code",
   "execution_count": 17,
   "metadata": {
    "collapsed": false
   },
   "outputs": [],
   "source": [
    "# Number of Buildings\n",
    "data = pd.Series(requests.get(base_url + '/descriptive/buildings/' + geo).json())\n",
    "df['buildings'] = data\n",
    "\n",
    "data_dictionary['buildings'] = 'Number of Buildings'"
   ]
  },
  {
   "cell_type": "code",
   "execution_count": 18,
   "metadata": {
    "collapsed": false
   },
   "outputs": [],
   "source": [
    "# Number of Residential Units\n",
    "\n",
    "options = {'target_var':'residential_units',\n",
    "          'spatial_agg':'sum'}\n",
    "\n",
    "data = pd.Series(requests.post(base_url + '/descriptive/buildings/' + geo, options).json())\n",
    "df['res_units'] = data\n",
    "\n",
    "data_dictionary['res_units'] = 'Number of Residential Units'"
   ]
  },
  {
   "cell_type": "code",
   "execution_count": 19,
   "metadata": {
    "collapsed": true
   },
   "outputs": [],
   "source": [
    "# Residential Square Feet\n",
    "\n",
    "options = {'target_var':'residential_sqft',\n",
    "          'spatial_agg':'sum'}\n",
    "\n",
    "data = pd.Series(requests.post(base_url + '/descriptive/buildings/' + geo, options).json())\n",
    "df['res_sqft'] = data\n",
    "\n",
    "data_dictionary['res_sqft'] = 'Total Residential Square Feet'"
   ]
  },
  {
   "cell_type": "code",
   "execution_count": 20,
   "metadata": {
    "collapsed": true
   },
   "outputs": [],
   "source": [
    "# Non-Residential Square Feet\n",
    "\n",
    "options = {'target_var':'non_residential_sqft',\n",
    "          'spatial_agg':'sum'}\n",
    "\n",
    "data = pd.Series(requests.post(base_url + '/descriptive/buildings/' + geo, options).json())\n",
    "df['non_res_sqft'] = data\n",
    "\n",
    "data_dictionary['non_res_sqft'] = 'Total Non-Residential Square Feet'"
   ]
  },
  {
   "cell_type": "code",
   "execution_count": 21,
   "metadata": {
    "collapsed": false
   },
   "outputs": [
    {
     "data": {
      "text/html": [
       "<div>\n",
       "<table border=\"1\" class=\"dataframe\">\n",
       "  <thead>\n",
       "    <tr style=\"text-align: right;\">\n",
       "      <th></th>\n",
       "      <th>job_density</th>\n",
       "      <th>pop_density</th>\n",
       "      <th>income_median</th>\n",
       "      <th>income_mean</th>\n",
       "      <th>households</th>\n",
       "      <th>persons</th>\n",
       "      <th>jobs</th>\n",
       "      <th>hh_rent</th>\n",
       "      <th>hh_own</th>\n",
       "      <th>buildings</th>\n",
       "      <th>res_units</th>\n",
       "      <th>res_sqft</th>\n",
       "      <th>non_res_sqft</th>\n",
       "    </tr>\n",
       "  </thead>\n",
       "  <tbody>\n",
       "    <tr>\n",
       "      <th>06001400100</th>\n",
       "      <td>1015.711822</td>\n",
       "      <td>1545.206648</td>\n",
       "      <td>73650.0</td>\n",
       "      <td>99333.474531</td>\n",
       "      <td>1492.0</td>\n",
       "      <td>4106.0</td>\n",
       "      <td>2699.0</td>\n",
       "      <td>532.0</td>\n",
       "      <td>960.0</td>\n",
       "      <td>1501.0</td>\n",
       "      <td>1538.0</td>\n",
       "      <td>3.789376e+06</td>\n",
       "      <td>2.175272e+06</td>\n",
       "    </tr>\n",
       "    <tr>\n",
       "      <th>06001400200</th>\n",
       "      <td>22296.042257</td>\n",
       "      <td>10353.754544</td>\n",
       "      <td>58000.0</td>\n",
       "      <td>81984.163536</td>\n",
       "      <td>905.0</td>\n",
       "      <td>2379.0</td>\n",
       "      <td>5123.0</td>\n",
       "      <td>340.0</td>\n",
       "      <td>565.0</td>\n",
       "      <td>664.0</td>\n",
       "      <td>933.0</td>\n",
       "      <td>1.457924e+06</td>\n",
       "      <td>2.370310e+06</td>\n",
       "    </tr>\n",
       "    <tr>\n",
       "      <th>06001400300</th>\n",
       "      <td>4084.171471</td>\n",
       "      <td>17515.307944</td>\n",
       "      <td>41820.0</td>\n",
       "      <td>64673.341553</td>\n",
       "      <td>3001.0</td>\n",
       "      <td>7475.0</td>\n",
       "      <td>1743.0</td>\n",
       "      <td>1457.0</td>\n",
       "      <td>1544.0</td>\n",
       "      <td>1530.0</td>\n",
       "      <td>3053.0</td>\n",
       "      <td>3.255548e+06</td>\n",
       "      <td>7.665925e+05</td>\n",
       "    </tr>\n",
       "    <tr>\n",
       "      <th>06001400400</th>\n",
       "      <td>4545.530377</td>\n",
       "      <td>19289.979519</td>\n",
       "      <td>56080.0</td>\n",
       "      <td>75146.463650</td>\n",
       "      <td>1967.0</td>\n",
       "      <td>5241.0</td>\n",
       "      <td>1235.0</td>\n",
       "      <td>878.0</td>\n",
       "      <td>1089.0</td>\n",
       "      <td>1094.0</td>\n",
       "      <td>2005.0</td>\n",
       "      <td>2.327632e+06</td>\n",
       "      <td>5.970030e+05</td>\n",
       "    </tr>\n",
       "    <tr>\n",
       "      <th>06001400500</th>\n",
       "      <td>3650.841511</td>\n",
       "      <td>19888.058220</td>\n",
       "      <td>50700.0</td>\n",
       "      <td>70629.397015</td>\n",
       "      <td>1675.0</td>\n",
       "      <td>4516.0</td>\n",
       "      <td>829.0</td>\n",
       "      <td>730.0</td>\n",
       "      <td>945.0</td>\n",
       "      <td>924.0</td>\n",
       "      <td>1710.0</td>\n",
       "      <td>1.778475e+06</td>\n",
       "      <td>3.401380e+05</td>\n",
       "    </tr>\n",
       "  </tbody>\n",
       "</table>\n",
       "</div>"
      ],
      "text/plain": [
       "              job_density   pop_density  income_median   income_mean  \\\n",
       "06001400100   1015.711822   1545.206648        73650.0  99333.474531   \n",
       "06001400200  22296.042257  10353.754544        58000.0  81984.163536   \n",
       "06001400300   4084.171471  17515.307944        41820.0  64673.341553   \n",
       "06001400400   4545.530377  19289.979519        56080.0  75146.463650   \n",
       "06001400500   3650.841511  19888.058220        50700.0  70629.397015   \n",
       "\n",
       "             households  persons    jobs  hh_rent  hh_own  buildings  \\\n",
       "06001400100      1492.0   4106.0  2699.0    532.0   960.0     1501.0   \n",
       "06001400200       905.0   2379.0  5123.0    340.0   565.0      664.0   \n",
       "06001400300      3001.0   7475.0  1743.0   1457.0  1544.0     1530.0   \n",
       "06001400400      1967.0   5241.0  1235.0    878.0  1089.0     1094.0   \n",
       "06001400500      1675.0   4516.0   829.0    730.0   945.0      924.0   \n",
       "\n",
       "             res_units      res_sqft  non_res_sqft  \n",
       "06001400100     1538.0  3.789376e+06  2.175272e+06  \n",
       "06001400200      933.0  1.457924e+06  2.370310e+06  \n",
       "06001400300     3053.0  3.255548e+06  7.665925e+05  \n",
       "06001400400     2005.0  2.327632e+06  5.970030e+05  \n",
       "06001400500     1710.0  1.778475e+06  3.401380e+05  "
      ]
     },
     "execution_count": 21,
     "metadata": {},
     "output_type": "execute_result"
    }
   ],
   "source": [
    "df.head()"
   ]
  },
  {
   "cell_type": "code",
   "execution_count": 22,
   "metadata": {
    "collapsed": false
   },
   "outputs": [],
   "source": [
    "naics = {11: 'Agriculture, Forestry, Fishing and Hunting',\n",
    "         21: 'Mining, Quarrying, and Oil and Gas Extraction',\n",
    "         22: 'Utilities',\n",
    "         23: 'Construction',\n",
    "         3133: 'Manufacturing',\n",
    "         42: 'Wholesale Trade',\n",
    "         4445: 'Retail Trade',\n",
    "         4849: 'Transportation and Warehousing',\n",
    "         51: 'Information',\n",
    "         52: 'Finance and Insurance',\n",
    "         53: 'Real Estate and Rental and Leasing',\n",
    "         54: 'Professional, Scientific, and Technical Services',\n",
    "         55: 'Management of Companies and Enterprises',\n",
    "         56: 'Administrative and Support and Waste Management and Remediation Services',\n",
    "         61: 'Educational Services',\n",
    "         62: 'Health Care and Social Assistance',\n",
    "         71: 'Arts, Entertainment, and Recreation',\n",
    "         72: 'Accommodation and Food Services',\n",
    "         81: 'Other Services (except Public Administration)',\n",
    "         92: 'Public Administration'}"
   ]
  },
  {
   "cell_type": "code",
   "execution_count": 28,
   "metadata": {
    "collapsed": false
   },
   "outputs": [
    {
     "name": "stdout",
     "output_type": "stream",
     "text": [
      "<!DOCTYPE HTML PUBLIC \"-//W3C//DTD HTML 3.2 Final//EN\">\n",
      "<title>500 Internal Server Error</title>\n",
      "<h1>Internal Server Error</h1>\n",
      "<p>The server encountered an internal error and was unable to complete your request.  Either the server is overloaded or there is an error in the application.</p>\n",
      "\n"
     ]
    }
   ],
   "source": [
    "options = {'sector_id':'21'}\n",
    "print requests.post(base_url + '/descriptive/jobs/' + geo, options).text"
   ]
  },
  {
   "cell_type": "code",
   "execution_count": 30,
   "metadata": {
    "collapsed": false
   },
   "outputs": [
    {
     "name": "stdout",
     "output_type": "stream",
     "text": [
      "54\n",
      "81\n",
      "71\n",
      "72\n",
      "42\n",
      "11\n",
      "61\n",
      "4445\n",
      "4849\n",
      "51\n",
      "52\n",
      "21\n",
      "22\n",
      "23\n",
      "56\n",
      "55\n",
      "92\n",
      "3133\n",
      "62\n",
      "53\n"
     ]
    }
   ],
   "source": [
    "# Jobs by Sector\n",
    "\n",
    "for key, value in naics.items():\n",
    "    \n",
    "    print key\n",
    "    \n",
    "    options = {'sector_id':str(key)}\n",
    "    \n",
    "    try:\n",
    "        data = pd.Series(requests.post(base_url + '/descriptive/jobs/' + geo, options).json())\n",
    "    except:\n",
    "        data = 0\n",
    "        \n",
    "    df['jobs_' + str(key)] = data\n",
    "    \n",
    "    data_dictionary['jobs_' + str(key)] = 'Number of Jobs in ' + value"
   ]
  },
  {
   "cell_type": "code",
   "execution_count": null,
   "metadata": {
    "collapsed": true
   },
   "outputs": [],
   "source": [
    "dd = pd.DataFrame(pd.Series(data_dictionary), columns=['Variable Definition'])\n",
    "dd.index.name = 'Variable'"
   ]
  },
  {
   "cell_type": "code",
   "execution_count": null,
   "metadata": {
    "collapsed": false
   },
   "outputs": [],
   "source": [
    "dd.to_csv('baseline_dictionary.csv')"
   ]
  },
  {
   "cell_type": "code",
   "execution_count": null,
   "metadata": {
    "collapsed": true
   },
   "outputs": [],
   "source": [
    "df.to_csv('baseline_results_v2.csv')"
   ]
  },
  {
   "cell_type": "code",
   "execution_count": null,
   "metadata": {
    "collapsed": true
   },
   "outputs": [],
   "source": []
  }
 ],
 "metadata": {
  "kernelspec": {
   "display_name": "Python 2",
   "language": "python",
   "name": "python2"
  },
  "language_info": {
   "codemirror_mode": {
    "name": "ipython",
    "version": 2
   },
   "file_extension": ".py",
   "mimetype": "text/x-python",
   "name": "python",
   "nbconvert_exporter": "python",
   "pygments_lexer": "ipython2",
   "version": "2.7.12"
  }
 },
 "nbformat": 4,
 "nbformat_minor": 0
}
