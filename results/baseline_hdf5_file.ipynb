{
 "cells": [
  {
   "cell_type": "code",
   "execution_count": 1,
   "metadata": {
    "collapsed": true
   },
   "outputs": [],
   "source": [
    "from __future__ import division\n",
    "import pandas as pd\n",
    "from urbansim.utils import misc"
   ]
  },
  {
   "cell_type": "markdown",
   "metadata": {},
   "source": [
    "### Steps to get baseline results\n",
    "\n",
    "* Get block ids in household and jobs tables via parcels table\n",
    "* Save to new HDF5 file and set up config file\n",
    "* Set up indicators container on Paris\n",
    "* Set up notebook to get results from indicators API on Paris"
   ]
  },
  {
   "cell_type": "code",
   "execution_count": 6,
   "metadata": {
    "collapsed": false
   },
   "outputs": [],
   "source": [
    "# Read parcel-to-block table\n",
    "parcel_block = pd.read_csv('parcel_to_block.csv', dtype=str)\n",
    "parcel_block = parcel_block.set_index('parcel_id')\n",
    "\n",
    "# Read block geometry table and set block_id to index of blocks table\n",
    "block_geom = pd.read_csv('block_geoms.csv', dtype='str')\n",
    "blocks = pd.DataFrame(index=block_geom.block_id)"
   ]
  },
  {
   "cell_type": "code",
   "execution_count": 7,
   "metadata": {
    "collapsed": false
   },
   "outputs": [
    {
     "data": {
      "text/plain": [
       "109228"
      ]
     },
     "execution_count": 7,
     "metadata": {},
     "output_type": "execute_result"
    }
   ],
   "source": [
    "len(blocks)"
   ]
  },
  {
   "cell_type": "code",
   "execution_count": 8,
   "metadata": {
    "collapsed": true
   },
   "outputs": [],
   "source": [
    "# Read HDF5 file of baseline data\n",
    "with pd.HDFStore('./../data/2015_09_01_bayarea_v3.h5') as store:\n",
    "    parcels = store.parcels\n",
    "    buildings = store.buildings\n",
    "    households = store.households\n",
    "    jobs = store.jobs"
   ]
  },
  {
   "cell_type": "code",
   "execution_count": 9,
   "metadata": {
    "collapsed": false
   },
   "outputs": [],
   "source": [
    "# Read existing file\n",
    "\n",
    "store = pd.HDFStore('/home/paul/Documents/Projects/indicators/data/bay_area_block_model_data.h5')"
   ]
  },
  {
   "cell_type": "code",
   "execution_count": 10,
   "metadata": {
    "collapsed": false
   },
   "outputs": [],
   "source": [
    "# Get block info to blocks table\n",
    "blocks['square_meters_land'] = store.blocks.square_meters_land"
   ]
  },
  {
   "cell_type": "code",
   "execution_count": 11,
   "metadata": {
    "collapsed": false
   },
   "outputs": [],
   "source": [
    "# Get block_ids to parcels and buildings\n",
    "parcels['block_id'] = misc.reindex(parcel_block.block_id, parcels.index.astype(str))\n",
    "buildings['block_id'] = misc.reindex(parcel_block.block_id, buildings.parcel_id.astype(str))"
   ]
  },
  {
   "cell_type": "code",
   "execution_count": null,
   "metadata": {
    "collapsed": true
   },
   "outputs": [],
   "source": []
  },
  {
   "cell_type": "code",
   "execution_count": 12,
   "metadata": {
    "collapsed": false
   },
   "outputs": [],
   "source": [
    "# Get block_ids to jobs and households\n",
    "\n",
    "jobs['block_id'] = misc.reindex(buildings.block_id, jobs.building_id)\n",
    "households['block_id'] = misc.reindex(buildings.block_id, households.building_id)"
   ]
  },
  {
   "cell_type": "code",
   "execution_count": 13,
   "metadata": {
    "collapsed": false
   },
   "outputs": [],
   "source": [
    "new_store = pd.HDFStore('./../data/bayarea_block_baseline.h5', mode='w')"
   ]
  },
  {
   "cell_type": "code",
   "execution_count": 14,
   "metadata": {
    "collapsed": false
   },
   "outputs": [
    {
     "name": "stderr",
     "output_type": "stream",
     "text": [
      "/home/paul/anaconda2/lib/python2.7/site-packages/IPython/core/interactiveshell.py:2885: PerformanceWarning: \n",
      "your performance may suffer as PyTables will pickle object types that it cannot\n",
      "map directly to c-types [inferred_type->mixed,key->block2_values] [items->['apn', 'parcel_id_local', 'imputation_flag', 'block_id']]\n",
      "\n",
      "  exec(code_obj, self.user_global_ns, self.user_ns)\n",
      "/home/paul/anaconda2/lib/python2.7/site-packages/IPython/core/interactiveshell.py:2885: PerformanceWarning: \n",
      "your performance may suffer as PyTables will pickle object types that it cannot\n",
      "map directly to c-types [inferred_type->mixed,key->block2_values] [items->['redfin_home_type', 'costar_property_type', 'costar_rent', 'block_id']]\n",
      "\n",
      "  exec(code_obj, self.user_global_ns, self.user_ns)\n",
      "/home/paul/anaconda2/lib/python2.7/site-packages/IPython/core/interactiveshell.py:2885: PerformanceWarning: \n",
      "your performance may suffer as PyTables will pickle object types that it cannot\n",
      "map directly to c-types [inferred_type->mixed,key->block1_values] [items->['block_id']]\n",
      "\n",
      "  exec(code_obj, self.user_global_ns, self.user_ns)\n",
      "/home/paul/anaconda2/lib/python2.7/site-packages/IPython/core/interactiveshell.py:2885: PerformanceWarning: \n",
      "your performance may suffer as PyTables will pickle object types that it cannot\n",
      "map directly to c-types [inferred_type->mixed,key->block2_values] [items->['block_id']]\n",
      "\n",
      "  exec(code_obj, self.user_global_ns, self.user_ns)\n"
     ]
    }
   ],
   "source": [
    "new_store['parcels'] = parcels\n",
    "new_store['buildings'] = buildings\n",
    "new_store['blocks'] = blocks\n",
    "new_store['households'] = households\n",
    "new_store['jobs'] = jobs"
   ]
  },
  {
   "cell_type": "code",
   "execution_count": 15,
   "metadata": {
    "collapsed": false
   },
   "outputs": [],
   "source": [
    "new_store['drive_edges'] = store.drive_edges\n",
    "new_store['drive_nodes'] = store.drive_nodes"
   ]
  },
  {
   "cell_type": "code",
   "execution_count": 16,
   "metadata": {
    "collapsed": false
   },
   "outputs": [],
   "source": [
    "new_store.close()\n",
    "store.close()"
   ]
  },
  {
   "cell_type": "code",
   "execution_count": 2,
   "metadata": {
    "collapsed": true
   },
   "outputs": [],
   "source": [
    "new_store = pd.HDFStore('./../data/bayarea_block_baseline.h5', mode='r')"
   ]
  },
  {
   "cell_type": "code",
   "execution_count": 4,
   "metadata": {
    "collapsed": false
   },
   "outputs": [
    {
     "data": {
      "text/plain": [
       "parcel_id                 int64\n",
       "development_type_id       int64\n",
       "improvement_value       float64\n",
       "residential_units         int64\n",
       "residential_sqft          int64\n",
       "sqft_per_unit           float64\n",
       "non_residential_sqft      int64\n",
       "building_sqft           float64\n",
       "nonres_rent_per_sqft    float64\n",
       "res_price_per_sqft      float64\n",
       "stories                   int64\n",
       "year_built                int64\n",
       "redfin_sale_price       float64\n",
       "redfin_sale_year        float64\n",
       "redfin_home_type         object\n",
       "costar_property_type     object\n",
       "costar_rent              object\n",
       "building_type_id          int64\n",
       "block_id                 object\n",
       "dtype: object"
      ]
     },
     "execution_count": 4,
     "metadata": {},
     "output_type": "execute_result"
    }
   ],
   "source": [
    "new_store.buildings.dtypes"
   ]
  },
  {
   "cell_type": "code",
   "execution_count": null,
   "metadata": {
    "collapsed": true
   },
   "outputs": [],
   "source": []
  }
 ],
 "metadata": {
  "kernelspec": {
   "display_name": "Python 2",
   "language": "python",
   "name": "python2"
  },
  "language_info": {
   "codemirror_mode": {
    "name": "ipython",
    "version": 2
   },
   "file_extension": ".py",
   "mimetype": "text/x-python",
   "name": "python",
   "nbconvert_exporter": "python",
   "pygments_lexer": "ipython2",
   "version": "2.7.12"
  }
 },
 "nbformat": 4,
 "nbformat_minor": 0
}
